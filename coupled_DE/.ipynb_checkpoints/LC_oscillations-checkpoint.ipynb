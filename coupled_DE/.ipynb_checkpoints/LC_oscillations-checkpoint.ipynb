{
 "cells": [
  {
   "cell_type": "markdown",
   "id": "48cbfd99",
   "metadata": {},
   "source": [
    "### SETUP\n",
    "Paste the code in [coupled_euler.py](../coupled_euler.py) in a python file in the working directory and make another new .py file\n",
    "\n",
    "Now, use this command to import all the functions and class definitions in coupled_euler.py \n"
   ]
  },
  {
   "cell_type": "code",
   "execution_count": null,
   "id": "212377da",
   "metadata": {},
   "outputs": [],
   "source": [
    "from coupled_euler import *"
   ]
  },
  {
   "cell_type": "markdown",
   "id": "43337937",
   "metadata": {},
   "source": [
    "Also make the following imports,"
   ]
  },
  {
   "cell_type": "code",
   "execution_count": null,
   "id": "c71fbab2",
   "metadata": {},
   "outputs": [],
   "source": [
    "import numpy as np\n",
    "import matplotlib.pyplot as plt"
   ]
  },
  {
   "cell_type": "markdown",
   "id": "58e93a1a",
   "metadata": {},
   "source": [
    "### THE PROBLEM\n",
    "\n",
    "#### CIRCUIT DIAGRAM\n",
    "![](LC_.jpg)\n",
    "#### MATH\n",
    "\n",
    "Applying KVL in two inner loops,\n",
    "$$\n",
    "\\begin{equation}\n",
    "    L\\frac{dI_b}{dt} = C'^{-1}Q_2 - C^{-1}Q_3 - R I_b\n",
    "\\end{equation}\n",
    "$$\n",
    "$$\n",
    "\\begin{equation}\n",
    "    L\\frac{dI_b}{dt} = C'^{-1}Q_2 - C^{-1}Q_3 - R I_b\n",
    "\\end{equation}\n",
    "$$\n",
    "\n",
    "Now, applying KCL at node b, \n",
    "$$\n",
    "\\begin{equation}\n",
    "    I_a = I_b + I_c\n",
    "\\end{equation}\n",
    "$$\n",
    "In our case setting internal resistance R of inductors zero\n",
    "$$\n",
    "\\begin{equation*}\n",
    "    \\frac{dQ_1}{dt} = -I_a, \\frac{dQ_2}{dt} = -I_a - I_b, \\frac{dQ_3}{dt} = I_b\n",
    "\\end{equation*}\n",
    "$$\n",
    "#### CODE\n",
    "Now to play with initial value problem understand and use the following code which can also be found in [here](../coupled_oscillators.py)."
   ]
  },
  {
   "cell_type": "code",
   "execution_count": null,
   "id": "3b55d898",
   "metadata": {},
   "outputs": [],
   "source": [
    "\n",
    "#l stands for inductance L , c1, c2 corresponds to C and C' \n",
    "l,c1,c2 = 0.1,1,1.3\n",
    "#resistance\n",
    "r=0\n",
    "ivp = set_problem(\n",
    "    f=[lambda t,x,y,q1,q2,q3 : (q1/c1 - q2/c2 -r*x)/l, #Function associated with (1)\n",
    "    lambda t,x,y,q1,q2,q3 :(q2/c2 - q3/c1 -r*y)/l, #Function associated with (2)\n",
    "    lambda t,x,y,q1,q2,q3 : -x , #Function associated with dq1/dt\n",
    "    lambda t,x,y,q1,q2,q3 : -x-y, #Function associated with dq2/dt\n",
    "    lambda t,x,y,q1,q2,q3 : y], #Function associated with dq3/dt\n",
    "    dom=(0,15), # Time Domain \n",
    "    ini=(0,10000,10000,1,0,-1), #initial conditions in ordered tuple(t,I_a,I_b,q1,q2,q3)\n",
    "    N=int(20000),# No. of nodes/ control step size\n",
    "    vars = (\"t\",\"$I_a$\",\"$I_b$\",\"q1\",\"q2\",\"q3\") # var names for labels\n",
    "    )\n",
    "\n",
    "d=ivp.rk4() # rk4 called to solve the ivp problem\n",
    "fig,ax = plt.subplots(1,1) \n",
    "ivp.jt_plot(ax,1) # plots I_a vs t on ax\n",
    "ivp.jt_plot(ax,2) # plots I_b vs t on ax\n",
    "\n",
    "#ivp.jt_plot(ax,3) # plots q1 vs t\n",
    "#ivp.jt_plot(ax,5) # plots q3 vs t\n",
    "#ivp.kj_plot(ax,3,5) # plots q3 vs q1\n",
    "#ivp.kj_plot(ax,1,2) # plots I_b vs I_a on ax\n",
    "plt.legend()\n",
    "plt.show()"
   ]
  },
  {
   "cell_type": "markdown",
   "id": "78e42f02",
   "metadata": {},
   "source": [
    "\n",
    "The result that I obtain for specifically the above Initial value problem,\n",
    "![](coupled_LC_mode2.png)\n",
    "which is clearly not what one expects."
   ]
  }
 ],
 "metadata": {
  "kernelspec": {
   "display_name": "Python 3",
   "language": "python",
   "name": "python3"
  },
  "language_info": {
   "codemirror_mode": {
    "name": "ipython",
    "version": 3
   },
   "file_extension": ".py",
   "mimetype": "text/x-python",
   "name": "python",
   "nbconvert_exporter": "python",
   "pygments_lexer": "ipython3",
   "version": "3.9.2"
  }
 },
 "nbformat": 4,
 "nbformat_minor": 5
}
