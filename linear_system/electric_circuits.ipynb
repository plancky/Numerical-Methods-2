{
 "cells": [
  {
   "cell_type": "code",
   "execution_count": 1,
   "metadata": {},
   "outputs": [],
   "source": [
    "from IPython.display import display, Markdown, Latex\n",
    "import linear_systems as ls \n",
    "import numpy as np"
   ]
  },
  {
   "cell_type": "markdown",
   "metadata": {},
   "source": [
    "Using KVL in 3 meshes we have the relations:- \n",
    "$$\n",
    "\\begin{align}\n",
    "-10+10I_1+20+10(I_1-I_2)-10I_1  = 0 \\\\\n",
    "-20 +10(I_2-I_1) + 30I_2+10(I_2-I_3) = 0 \\\\\n",
    "-10 -20I_3-10(I_3-I_2)= 0\n",
    "\\end{align}\n",
    "$$\n",
    "In matrix form we have the following relation \n",
    "$$\n",
    "\\begin{pmatrix}\n",
    "4 & -1 & 0 \\\\\n",
    "-1 & 5 & -1 \\\\\n",
    "0 & 1 & -3 \\\\\n",
    "\\end{pmatrix}\n",
    "\\begin{pmatrix}\n",
    "I_1 \\\\\n",
    "I_2\\\\\n",
    "I_3 \\\\\n",
    "\\end{pmatrix}\n",
    "=\n",
    "\\begin{pmatrix}\n",
    "-1 \\\\\n",
    "2\\\\\n",
    "1 \\\\\n",
    "\\end{pmatrix}\n",
    "$$\n",
    "$$\n",
    "\n",
    "\\left[\\begin{array}{ccc|c}\n",
    "4 & -1 & 0 &-1 \\\\\n",
    "-1 & 5 & -1 &2\\\\\n",
    "0 & 1 & -3& 1 \\\\\n",
    "\\end{array}\\right]\n",
    "$$\n"
   ]
  },
  {
   "cell_type": "markdown",
   "metadata": {},
   "source": [
    "Using Gaussian elimination we have, "
   ]
  },
  {
   "cell_type": "code",
   "execution_count": 2,
   "metadata": {},
   "outputs": [
    {
     "name": "stdout",
     "output_type": "stream",
     "text": [
      "Consistent system, unique solution, 3 3 3\n"
     ]
    },
    {
     "data": {
      "text/latex": [
       "\n",
       "$$\\left[\\begin{array}{ccc|c}\n",
       "4 & -1 & 0 & -1\\\\\n",
       "-1 & 5 & -1 & 2\\\\\n",
       "0 & 1 & -3 & 1\\\\\n",
       "\\end{array}\\right]$$\n",
       "\n",
       "$$\\left[\\begin{array}{ccc|c}\n",
       "1 & -0.25 & 0 & -0.25\\\\\n",
       "-1 & 5 & -1 & 2\\\\\n",
       "0 & 1 & -3 & 1\\\\\n",
       "\\end{array}\\right]$$\n",
       "\n",
       "$$\\left[\\begin{array}{ccc|c}\n",
       "1 & -0.25 & 0 & -0.25\\\\\n",
       "0 & 4.75 & -1 & 1.75\\\\\n",
       "0 & 1 & -3 & 1\\\\\n",
       "\\end{array}\\right]$$\n",
       "\n",
       "$$\\left[\\begin{array}{ccc|c}\n",
       "1 & -0.25 & 0 & -0.25\\\\\n",
       "0 & 4.75 & -1 & 1.75\\\\\n",
       "0 & 1 & -3 & 1\\\\\n",
       "\\end{array}\\right]$$\n",
       "\n",
       "$$\\left[\\begin{array}{ccc|c}\n",
       "1 & -0.25 & 0 & -0.25\\\\\n",
       "0 & 1 & -0.211 & 0.368\\\\\n",
       "0 & 1 & -3 & 1\\\\\n",
       "\\end{array}\\right]$$\n",
       "\n",
       "$$\\left[\\begin{array}{ccc|c}\n",
       "1 & -0.25 & 0 & -0.25\\\\\n",
       "0 & 1 & -0.211 & 0.368\\\\\n",
       "0 & 0 & -2.79 & 0.632\\\\\n",
       "\\end{array}\\right]$$\n",
       "\n",
       "$$\\left[\\begin{array}{ccc|c}\n",
       "1 & -0.25 & 0 & -0.25\\\\\n",
       "0 & 1 & -0.211 & 0.368\\\\\n",
       "0 & 0 & -2.79 & 0.632\\\\\n",
       "\\end{array}\\right]$$\n",
       "\n",
       "$$\\left[\\begin{array}{ccc|c}\n",
       "1 & -0.25 & 0 & -0.25\\\\\n",
       "0 & 1 & -0.211 & 0.368\\\\\n",
       "-0 & -0 & 1 & -0.226\\\\\n",
       "\\end{array}\\right]$$\n"
      ],
      "text/plain": [
       "<IPython.core.display.Latex object>"
      ]
     },
     "metadata": {},
     "output_type": "display_data"
    },
    {
     "data": {
      "text/latex": [
       "\n",
       "$$\\left[\\begin{array}{ccc|c}\n",
       "1 & 0 & 0 & -0.17\\\\\n",
       "0 & 1 & 0 & 0.321\\\\\n",
       "-0 & -0 & 1 & -0.226\\\\\n",
       "\\end{array}\\right]$$\n"
      ],
      "text/plain": [
       "<IPython.core.display.Latex object>"
      ]
     },
     "metadata": {},
     "output_type": "display_data"
    },
    {
     "name": "stdout",
     "output_type": "stream",
     "text": [
      "[-0.16981132  0.32075472 -0.22641509]\n"
     ]
    }
   ],
   "source": [
    "A = np.array(\n",
    "    [[4,-1,0],\n",
    "    [-1,5,-1],\n",
    "    [0,1,-3]] , dtype=float\n",
    ")\n",
    "b = np.array([-1,2,1])\n",
    "loc= \"electric_circuit.md\"\n",
    "(aug,steps) = ls.gauss_elim(A,b,loc)\n",
    "aug = ls.gauss_jordan(aug)\n",
    "display(Latex(steps))\n",
    "display(Latex(ls.matrixp(aug)))\n",
    "print(np.linalg.solve(A,b))"
   ]
  },
  {
   "cell_type": "code",
   "execution_count": 3,
   "metadata": {},
   "outputs": [
    {
     "name": "stdout",
     "output_type": "stream",
     "text": [
      "Inconsistent system, no solution, 3 2 3\n"
     ]
    },
    {
     "data": {
      "text/latex": [
       "\n",
       "$$\\left[\\begin{array}{ccc|c}\n",
       "4 & 1 & 1 & -1\\\\\n",
       "-1 & 2 & 2 & 2\\\\\n",
       "0 & 3 & 3 & 1\\\\\n",
       "\\end{array}\\right]$$\n",
       "\n",
       "$$\\left[\\begin{array}{ccc|c}\n",
       "1 & 0.25 & 0.25 & -0.25\\\\\n",
       "-1 & 2 & 2 & 2\\\\\n",
       "0 & 3 & 3 & 1\\\\\n",
       "\\end{array}\\right]$$\n",
       "\n",
       "$$\\left[\\begin{array}{ccc|c}\n",
       "1 & 0.25 & 0.25 & -0.25\\\\\n",
       "0 & 2.25 & 2.25 & 1.75\\\\\n",
       "0 & 3 & 3 & 1\\\\\n",
       "\\end{array}\\right]$$\n",
       "\n",
       "$$\\left[\\begin{array}{ccc|c}\n",
       "1 & 0.25 & 0.25 & -0.25\\\\\n",
       "0 & 2.25 & 2.25 & 1.75\\\\\n",
       "0 & 3 & 3 & 1\\\\\n",
       "\\end{array}\\right]$$\n",
       "\n",
       "$$\\left[\\begin{array}{ccc|c}\n",
       "1 & 0.25 & 0.25 & -0.25\\\\\n",
       "0 & 1 & 1 & 0.778\\\\\n",
       "0 & 3 & 3 & 1\\\\\n",
       "\\end{array}\\right]$$\n",
       "\n",
       "$$\\left[\\begin{array}{ccc|c}\n",
       "1 & 0.25 & 0.25 & -0.25\\\\\n",
       "0 & 1 & 1 & 0.778\\\\\n",
       "0 & 0 & 0 & -1.33\\\\\n",
       "\\end{array}\\right]$$\n"
      ],
      "text/plain": [
       "<IPython.core.display.Latex object>"
      ]
     },
     "metadata": {},
     "output_type": "display_data"
    },
    {
     "data": {
      "text/latex": [
       "\n",
       "$$\\left[\\begin{array}{ccc|c}\n",
       "1 & 0 & 0 & -0.444\\\\\n",
       "0 & 1 & 1 & 2.11\\\\\n",
       "0 & 0 & 0 & -1.33\\\\\n",
       "\\end{array}\\right]$$\n"
      ],
      "text/plain": [
       "<IPython.core.display.Latex object>"
      ]
     },
     "metadata": {},
     "output_type": "display_data"
    },
    {
     "ename": "LinAlgError",
     "evalue": "Singular matrix",
     "output_type": "error",
     "traceback": [
      "\u001b[0;31m---------------------------------------------------------------------------\u001b[0m",
      "\u001b[0;31mLinAlgError\u001b[0m                               Traceback (most recent call last)",
      "\u001b[0;32m<ipython-input-3-0e14dea9cd01>\u001b[0m in \u001b[0;36m<module>\u001b[0;34m\u001b[0m\n\u001b[1;32m     10\u001b[0m \u001b[0mdisplay\u001b[0m\u001b[0;34m(\u001b[0m\u001b[0mLatex\u001b[0m\u001b[0;34m(\u001b[0m\u001b[0msteps\u001b[0m\u001b[0;34m)\u001b[0m\u001b[0;34m)\u001b[0m\u001b[0;34m\u001b[0m\u001b[0;34m\u001b[0m\u001b[0m\n\u001b[1;32m     11\u001b[0m \u001b[0mdisplay\u001b[0m\u001b[0;34m(\u001b[0m\u001b[0mLatex\u001b[0m\u001b[0;34m(\u001b[0m\u001b[0mls\u001b[0m\u001b[0;34m.\u001b[0m\u001b[0mmatrixp\u001b[0m\u001b[0;34m(\u001b[0m\u001b[0maug\u001b[0m\u001b[0;34m)\u001b[0m\u001b[0;34m)\u001b[0m\u001b[0;34m)\u001b[0m\u001b[0;34m\u001b[0m\u001b[0;34m\u001b[0m\u001b[0m\n\u001b[0;32m---> 12\u001b[0;31m \u001b[0mprint\u001b[0m\u001b[0;34m(\u001b[0m\u001b[0mnp\u001b[0m\u001b[0;34m.\u001b[0m\u001b[0mlinalg\u001b[0m\u001b[0;34m.\u001b[0m\u001b[0msolve\u001b[0m\u001b[0;34m(\u001b[0m\u001b[0mA\u001b[0m\u001b[0;34m,\u001b[0m\u001b[0mb\u001b[0m\u001b[0;34m)\u001b[0m\u001b[0;34m)\u001b[0m\u001b[0;34m\u001b[0m\u001b[0;34m\u001b[0m\u001b[0m\n\u001b[0m",
      "\u001b[0;32m<__array_function__ internals>\u001b[0m in \u001b[0;36msolve\u001b[0;34m(*args, **kwargs)\u001b[0m\n",
      "\u001b[0;32m~/.local/lib/python3.9/site-packages/numpy/linalg/linalg.py\u001b[0m in \u001b[0;36msolve\u001b[0;34m(a, b)\u001b[0m\n\u001b[1;32m    391\u001b[0m     \u001b[0msignature\u001b[0m \u001b[0;34m=\u001b[0m \u001b[0;34m'DD->D'\u001b[0m \u001b[0;32mif\u001b[0m \u001b[0misComplexType\u001b[0m\u001b[0;34m(\u001b[0m\u001b[0mt\u001b[0m\u001b[0;34m)\u001b[0m \u001b[0;32melse\u001b[0m \u001b[0;34m'dd->d'\u001b[0m\u001b[0;34m\u001b[0m\u001b[0;34m\u001b[0m\u001b[0m\n\u001b[1;32m    392\u001b[0m     \u001b[0mextobj\u001b[0m \u001b[0;34m=\u001b[0m \u001b[0mget_linalg_error_extobj\u001b[0m\u001b[0;34m(\u001b[0m\u001b[0m_raise_linalgerror_singular\u001b[0m\u001b[0;34m)\u001b[0m\u001b[0;34m\u001b[0m\u001b[0;34m\u001b[0m\u001b[0m\n\u001b[0;32m--> 393\u001b[0;31m     \u001b[0mr\u001b[0m \u001b[0;34m=\u001b[0m \u001b[0mgufunc\u001b[0m\u001b[0;34m(\u001b[0m\u001b[0ma\u001b[0m\u001b[0;34m,\u001b[0m \u001b[0mb\u001b[0m\u001b[0;34m,\u001b[0m \u001b[0msignature\u001b[0m\u001b[0;34m=\u001b[0m\u001b[0msignature\u001b[0m\u001b[0;34m,\u001b[0m \u001b[0mextobj\u001b[0m\u001b[0;34m=\u001b[0m\u001b[0mextobj\u001b[0m\u001b[0;34m)\u001b[0m\u001b[0;34m\u001b[0m\u001b[0;34m\u001b[0m\u001b[0m\n\u001b[0m\u001b[1;32m    394\u001b[0m \u001b[0;34m\u001b[0m\u001b[0m\n\u001b[1;32m    395\u001b[0m     \u001b[0;32mreturn\u001b[0m \u001b[0mwrap\u001b[0m\u001b[0;34m(\u001b[0m\u001b[0mr\u001b[0m\u001b[0;34m.\u001b[0m\u001b[0mastype\u001b[0m\u001b[0;34m(\u001b[0m\u001b[0mresult_t\u001b[0m\u001b[0;34m,\u001b[0m \u001b[0mcopy\u001b[0m\u001b[0;34m=\u001b[0m\u001b[0;32mFalse\u001b[0m\u001b[0;34m)\u001b[0m\u001b[0;34m)\u001b[0m\u001b[0;34m\u001b[0m\u001b[0;34m\u001b[0m\u001b[0m\n",
      "\u001b[0;32m~/.local/lib/python3.9/site-packages/numpy/linalg/linalg.py\u001b[0m in \u001b[0;36m_raise_linalgerror_singular\u001b[0;34m(err, flag)\u001b[0m\n\u001b[1;32m     86\u001b[0m \u001b[0;34m\u001b[0m\u001b[0m\n\u001b[1;32m     87\u001b[0m \u001b[0;32mdef\u001b[0m \u001b[0m_raise_linalgerror_singular\u001b[0m\u001b[0;34m(\u001b[0m\u001b[0merr\u001b[0m\u001b[0;34m,\u001b[0m \u001b[0mflag\u001b[0m\u001b[0;34m)\u001b[0m\u001b[0;34m:\u001b[0m\u001b[0;34m\u001b[0m\u001b[0;34m\u001b[0m\u001b[0m\n\u001b[0;32m---> 88\u001b[0;31m     \u001b[0;32mraise\u001b[0m \u001b[0mLinAlgError\u001b[0m\u001b[0;34m(\u001b[0m\u001b[0;34m\"Singular matrix\"\u001b[0m\u001b[0;34m)\u001b[0m\u001b[0;34m\u001b[0m\u001b[0;34m\u001b[0m\u001b[0m\n\u001b[0m\u001b[1;32m     89\u001b[0m \u001b[0;34m\u001b[0m\u001b[0m\n\u001b[1;32m     90\u001b[0m \u001b[0;32mdef\u001b[0m \u001b[0m_raise_linalgerror_nonposdef\u001b[0m\u001b[0;34m(\u001b[0m\u001b[0merr\u001b[0m\u001b[0;34m,\u001b[0m \u001b[0mflag\u001b[0m\u001b[0;34m)\u001b[0m\u001b[0;34m:\u001b[0m\u001b[0;34m\u001b[0m\u001b[0;34m\u001b[0m\u001b[0m\n",
      "\u001b[0;31mLinAlgError\u001b[0m: Singular matrix"
     ]
    }
   ],
   "source": [
    "A = np.array(\n",
    "    [[4,1,1],\n",
    "    [-1,2,2],\n",
    "    [0,3,3]] , dtype=float\n",
    ")\n",
    "b = np.array([-1,2,1])\n",
    "loc= \"electric_circuit.md\"\n",
    "(aug,steps) = ls.gauss_elim(A,b,loc)\n",
    "aug = ls.gauss_jordan(aug)\n",
    "display(Latex(steps))\n",
    "display(Latex(ls.matrixp(aug)))\n",
    "print(np.linalg.solve(A,b))"
   ]
  },
  {
   "cell_type": "code",
   "execution_count": 4,
   "metadata": {},
   "outputs": [
    {
     "data": {
      "text/latex": [
       "\n",
       "$$\\left[\\begin{array}{cc|c}\n",
       "1 & 2 & 7\\\\\n",
       "1 & 1 & 2\\\\\n",
       "2 & 2 & 4\\\\\n",
       "\\end{array}\\right]$$\n",
       "\n",
       "$$\\left[\\begin{array}{cc|c}\n",
       "1 & 2 & 7\\\\\n",
       "1 & 1 & 2\\\\\n",
       "2 & 2 & 4\\\\\n",
       "\\end{array}\\right]$$\n",
       "\n",
       "$$\\left[\\begin{array}{cc|c}\n",
       "1 & 2 & 7\\\\\n",
       "0 & -1 & -5\\\\\n",
       "0 & -2 & -10\\\\\n",
       "\\end{array}\\right]$$\n",
       "\n",
       "$$\\left[\\begin{array}{cc|c}\n",
       "1 & 2 & 7\\\\\n",
       "0 & -1 & -5\\\\\n",
       "0 & -2 & -10\\\\\n",
       "\\end{array}\\right]$$\n",
       "\n",
       "$$\\left[\\begin{array}{cc|c}\n",
       "1 & 2 & 7\\\\\n",
       "-0 & 1 & 5\\\\\n",
       "0 & -2 & -10\\\\\n",
       "\\end{array}\\right]$$\n",
       "\n",
       "$$\\left[\\begin{array}{cc|c}\n",
       "1 & 2 & 7\\\\\n",
       "-0 & 1 & 5\\\\\n",
       "0 & 0 & 0\\\\\n",
       "\\end{array}\\right]$$\n"
      ],
      "text/plain": [
       "<IPython.core.display.Latex object>"
      ]
     },
     "metadata": {},
     "output_type": "display_data"
    },
    {
     "data": {
      "text/latex": [
       "\n",
       "$$\\left[\\begin{array}{cc|c}\n",
       "1 & 0 & -3\\\\\n",
       "-0 & 1 & 5\\\\\n",
       "0 & 0 & 0\\\\\n",
       "\\end{array}\\right]$$\n"
      ],
      "text/plain": [
       "<IPython.core.display.Latex object>"
      ]
     },
     "metadata": {},
     "output_type": "display_data"
    },
    {
     "ename": "LinAlgError",
     "evalue": "Last 2 dimensions of the array must be square",
     "output_type": "error",
     "traceback": [
      "\u001b[0;31m---------------------------------------------------------------------------\u001b[0m",
      "\u001b[0;31mLinAlgError\u001b[0m                               Traceback (most recent call last)",
      "\u001b[0;32m<ipython-input-4-012b55012efb>\u001b[0m in \u001b[0;36m<module>\u001b[0;34m\u001b[0m\n\u001b[1;32m     10\u001b[0m \u001b[0mdisplay\u001b[0m\u001b[0;34m(\u001b[0m\u001b[0mLatex\u001b[0m\u001b[0;34m(\u001b[0m\u001b[0msteps\u001b[0m\u001b[0;34m)\u001b[0m\u001b[0;34m)\u001b[0m\u001b[0;34m\u001b[0m\u001b[0;34m\u001b[0m\u001b[0m\n\u001b[1;32m     11\u001b[0m \u001b[0mdisplay\u001b[0m\u001b[0;34m(\u001b[0m\u001b[0mLatex\u001b[0m\u001b[0;34m(\u001b[0m\u001b[0mls\u001b[0m\u001b[0;34m.\u001b[0m\u001b[0mmatrixp\u001b[0m\u001b[0;34m(\u001b[0m\u001b[0maug\u001b[0m\u001b[0;34m)\u001b[0m\u001b[0;34m)\u001b[0m\u001b[0;34m)\u001b[0m\u001b[0;34m\u001b[0m\u001b[0;34m\u001b[0m\u001b[0m\n\u001b[0;32m---> 12\u001b[0;31m \u001b[0mprint\u001b[0m\u001b[0;34m(\u001b[0m\u001b[0mnp\u001b[0m\u001b[0;34m.\u001b[0m\u001b[0mlinalg\u001b[0m\u001b[0;34m.\u001b[0m\u001b[0msolve\u001b[0m\u001b[0;34m(\u001b[0m\u001b[0mA\u001b[0m\u001b[0;34m,\u001b[0m\u001b[0mb\u001b[0m\u001b[0;34m)\u001b[0m\u001b[0;34m)\u001b[0m\u001b[0;34m\u001b[0m\u001b[0;34m\u001b[0m\u001b[0m\n\u001b[0m",
      "\u001b[0;32m<__array_function__ internals>\u001b[0m in \u001b[0;36msolve\u001b[0;34m(*args, **kwargs)\u001b[0m\n",
      "\u001b[0;32m~/.local/lib/python3.9/site-packages/numpy/linalg/linalg.py\u001b[0m in \u001b[0;36msolve\u001b[0;34m(a, b)\u001b[0m\n\u001b[1;32m    378\u001b[0m     \u001b[0ma\u001b[0m\u001b[0;34m,\u001b[0m \u001b[0m_\u001b[0m \u001b[0;34m=\u001b[0m \u001b[0m_makearray\u001b[0m\u001b[0;34m(\u001b[0m\u001b[0ma\u001b[0m\u001b[0;34m)\u001b[0m\u001b[0;34m\u001b[0m\u001b[0;34m\u001b[0m\u001b[0m\n\u001b[1;32m    379\u001b[0m     \u001b[0m_assert_stacked_2d\u001b[0m\u001b[0;34m(\u001b[0m\u001b[0ma\u001b[0m\u001b[0;34m)\u001b[0m\u001b[0;34m\u001b[0m\u001b[0;34m\u001b[0m\u001b[0m\n\u001b[0;32m--> 380\u001b[0;31m     \u001b[0m_assert_stacked_square\u001b[0m\u001b[0;34m(\u001b[0m\u001b[0ma\u001b[0m\u001b[0;34m)\u001b[0m\u001b[0;34m\u001b[0m\u001b[0;34m\u001b[0m\u001b[0m\n\u001b[0m\u001b[1;32m    381\u001b[0m     \u001b[0mb\u001b[0m\u001b[0;34m,\u001b[0m \u001b[0mwrap\u001b[0m \u001b[0;34m=\u001b[0m \u001b[0m_makearray\u001b[0m\u001b[0;34m(\u001b[0m\u001b[0mb\u001b[0m\u001b[0;34m)\u001b[0m\u001b[0;34m\u001b[0m\u001b[0;34m\u001b[0m\u001b[0m\n\u001b[1;32m    382\u001b[0m     \u001b[0mt\u001b[0m\u001b[0;34m,\u001b[0m \u001b[0mresult_t\u001b[0m \u001b[0;34m=\u001b[0m \u001b[0m_commonType\u001b[0m\u001b[0;34m(\u001b[0m\u001b[0ma\u001b[0m\u001b[0;34m,\u001b[0m \u001b[0mb\u001b[0m\u001b[0;34m)\u001b[0m\u001b[0;34m\u001b[0m\u001b[0;34m\u001b[0m\u001b[0m\n",
      "\u001b[0;32m~/.local/lib/python3.9/site-packages/numpy/linalg/linalg.py\u001b[0m in \u001b[0;36m_assert_stacked_square\u001b[0;34m(*arrays)\u001b[0m\n\u001b[1;32m    201\u001b[0m         \u001b[0mm\u001b[0m\u001b[0;34m,\u001b[0m \u001b[0mn\u001b[0m \u001b[0;34m=\u001b[0m \u001b[0ma\u001b[0m\u001b[0;34m.\u001b[0m\u001b[0mshape\u001b[0m\u001b[0;34m[\u001b[0m\u001b[0;34m-\u001b[0m\u001b[0;36m2\u001b[0m\u001b[0;34m:\u001b[0m\u001b[0;34m]\u001b[0m\u001b[0;34m\u001b[0m\u001b[0;34m\u001b[0m\u001b[0m\n\u001b[1;32m    202\u001b[0m         \u001b[0;32mif\u001b[0m \u001b[0mm\u001b[0m \u001b[0;34m!=\u001b[0m \u001b[0mn\u001b[0m\u001b[0;34m:\u001b[0m\u001b[0;34m\u001b[0m\u001b[0;34m\u001b[0m\u001b[0m\n\u001b[0;32m--> 203\u001b[0;31m             \u001b[0;32mraise\u001b[0m \u001b[0mLinAlgError\u001b[0m\u001b[0;34m(\u001b[0m\u001b[0;34m'Last 2 dimensions of the array must be square'\u001b[0m\u001b[0;34m)\u001b[0m\u001b[0;34m\u001b[0m\u001b[0;34m\u001b[0m\u001b[0m\n\u001b[0m\u001b[1;32m    204\u001b[0m \u001b[0;34m\u001b[0m\u001b[0m\n\u001b[1;32m    205\u001b[0m \u001b[0;32mdef\u001b[0m \u001b[0m_assert_finite\u001b[0m\u001b[0;34m(\u001b[0m\u001b[0;34m*\u001b[0m\u001b[0marrays\u001b[0m\u001b[0;34m)\u001b[0m\u001b[0;34m:\u001b[0m\u001b[0;34m\u001b[0m\u001b[0;34m\u001b[0m\u001b[0m\n",
      "\u001b[0;31mLinAlgError\u001b[0m: Last 2 dimensions of the array must be square"
     ]
    }
   ],
   "source": [
    "A = np.array(\n",
    "    [[1,2],\n",
    "    [1,1],\n",
    "    [2,2]] , dtype=float\n",
    ")\n",
    "b = np.array([7,2,4])\n",
    "(aug,steps) = ls.gauss_elim(A,b,loc)\n",
    "aug = ls.gauss_jordan(aug)\n",
    "display(Latex(steps))\n",
    "display(Latex(ls.matrixp(aug)))\n",
    "print(np.linalg.solve(A,b))"
   ]
  }
 ],
 "metadata": {
  "interpreter": {
   "hash": "916dbcbb3f70747c44a77c7bcd40155683ae19c65e1c03b4aa3499c5328201f1"
  },
  "kernelspec": {
   "display_name": "Python 3.9.7 64-bit",
   "language": "python",
   "name": "python3"
  },
  "language_info": {
   "codemirror_mode": {
    "name": "ipython",
    "version": 3
   },
   "file_extension": ".py",
   "mimetype": "text/x-python",
   "name": "python",
   "nbconvert_exporter": "python",
   "pygments_lexer": "ipython3",
   "version": "3.9.7"
  },
  "orig_nbformat": 4
 },
 "nbformat": 4,
 "nbformat_minor": 2
}
