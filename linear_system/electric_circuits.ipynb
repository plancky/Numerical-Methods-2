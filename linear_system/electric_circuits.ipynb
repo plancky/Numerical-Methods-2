{
 "cells": [
  {
   "cell_type": "code",
   "execution_count": 1,
   "metadata": {},
   "outputs": [],
   "source": [
    "from IPython.display import display, Markdown, Latex\n",
    "import linear_systems as ls \n",
    "import numpy as np"
   ]
  },
  {
   "cell_type": "markdown",
   "metadata": {},
   "source": [
    "Using KVL in 3 meshes we have the relations:- \n",
    "$$\n",
    "\\begin{align}\n",
    "10+40I_1- 10I_2  = 0 \\\\\n",
    "-20 -10I_1 + 50 I_2 -10I_3 = 0 \\\\\n",
    "+10 -30 I_3+10I_2 = 0\n",
    "\\end{align}\n",
    "$$\n",
    "In matrix form we have the following relation \n",
    "$$\n",
    "\\begin{pmatrix}\n",
    "4 & -1 & 0 \\\\\n",
    "-1 & 5 & -1 \\\\\n",
    "0 & 10 & -30 \\\\\n",
    "\\end{pmatrix}\n",
    "\\begin{pmatrix}\n",
    "I_1 \\\\\n",
    "I_2\\\\\n",
    "I_3 \\\\\n",
    "\\end{pmatrix}\n",
    "=\n",
    "\\begin{pmatrix}\n",
    "-1 \\\\\n",
    "2\\\\\n",
    "-1 \\\\\n",
    "\\end{pmatrix}\n",
    "$$\n",
    "$$\n",
    "\n",
    "\\left[\\begin{array}{ccc|c}\n",
    "4 & -1 & 0 &-1 \\\\\n",
    "-1 & 5 & -1 &2\\\\\n",
    "0 & 1 & -3& -1 \\\\\n",
    "\\end{array}\\right]\n",
    "$$\n"
   ]
  },
  {
   "cell_type": "markdown",
   "metadata": {},
   "source": [
    "Using Gaussian elimination we have, "
   ]
  },
  {
   "cell_type": "code",
   "execution_count": 6,
   "metadata": {},
   "outputs": [
    {
     "data": {
      "text/latex": [
       "\n",
       "$$\\left[\\begin{array}{ccc|c}\n",
       "4 & -1 & 0 & -1\\\\\n",
       "-1 & 5 & -1 & 2\\\\\n",
       "0 & 1 & -3 & -1\\\\\n",
       "\\end{array}\\right]$$\n",
       "\n",
       "$$\\left[\\begin{array}{ccc|c}\n",
       "1 & -0.25 & 0 & -0.25\\\\\n",
       "-1 & 5 & -1 & 2\\\\\n",
       "0 & 1 & -3 & -1\\\\\n",
       "\\end{array}\\right]$$\n",
       "\n",
       "$$\\left[\\begin{array}{ccc|c}\n",
       "1 & -0.25 & 0 & -0.25\\\\\n",
       "0 & 4.75 & -1 & 1.75\\\\\n",
       "0 & 1 & -3 & -1\\\\\n",
       "\\end{array}\\right]$$\n",
       "\n",
       "$$\\left[\\begin{array}{ccc|c}\n",
       "1 & -0.25 & 0 & -0.25\\\\\n",
       "0 & 4.75 & -1 & 1.75\\\\\n",
       "0 & 1 & -3 & -1\\\\\n",
       "\\end{array}\\right]$$\n",
       "\n",
       "$$\\left[\\begin{array}{ccc|c}\n",
       "1 & -0.25 & 0 & -0.25\\\\\n",
       "0 & 4.75 & -1 & 1.75\\\\\n",
       "0 & 1 & -3 & -1\\\\\n",
       "\\end{array}\\right]$$\n",
       "\n",
       "$$\\left[\\begin{array}{ccc|c}\n",
       "1 & -0.25 & 0 & -0.25\\\\\n",
       "0 & 1 & -0.211 & 0.368\\\\\n",
       "0 & 1 & -3 & -1\\\\\n",
       "\\end{array}\\right]$$\n",
       "\n",
       "$$\\left[\\begin{array}{ccc|c}\n",
       "1 & -0.25 & 0 & -0.25\\\\\n",
       "0 & 1 & -0.211 & 0.368\\\\\n",
       "0 & 0 & -2.79 & -1.37\\\\\n",
       "\\end{array}\\right]$$\n",
       "\n",
       "$$\\left[\\begin{array}{ccc|c}\n",
       "1 & -0.25 & 0 & -0.25\\\\\n",
       "0 & 1 & -0.211 & 0.368\\\\\n",
       "0 & 0 & -2.79 & -1.37\\\\\n",
       "\\end{array}\\right]$$\n",
       "\n",
       "$$\\left[\\begin{array}{ccc|c}\n",
       "1 & -0.25 & 0 & -0.25\\\\\n",
       "0 & 1 & -0.211 & 0.368\\\\\n",
       "-0 & -0 & 1 & 0.491\\\\\n",
       "\\end{array}\\right]$$\n"
      ],
      "text/plain": [
       "<IPython.core.display.Latex object>"
      ]
     },
     "metadata": {},
     "output_type": "display_data"
    },
    {
     "data": {
      "text/latex": [
       "\n",
       "$$\\left[\\begin{array}{ccc|c}\n",
       "1 & 0 & 0 & -0.132\\\\\n",
       "0 & 1 & 0 & 0.472\\\\\n",
       "-0 & -0 & 1 & 0.491\\\\\n",
       "\\end{array}\\right]$$\n"
      ],
      "text/plain": [
       "<IPython.core.display.Latex object>"
      ]
     },
     "metadata": {},
     "output_type": "display_data"
    }
   ],
   "source": [
    "A = np.array(\n",
    "    [[4,-1,0],\n",
    "    [-1,5,-1],\n",
    "    [0,1,-3]\n",
    "    ] , dtype=float\n",
    ")\n",
    "b = np.array([-1,2,-1])\n",
    "loc= \"electric_circuit.md\"\n",
    "(aug,steps) = ls.gauss_elim(A,b,loc)\n",
    "aug = ls.gauss_jordan(aug)\n",
    "display(Latex(steps))\n",
    "display(Latex(ls.matrixp(aug)))"
   ]
  }
 ],
 "metadata": {
  "interpreter": {
   "hash": "916dbcbb3f70747c44a77c7bcd40155683ae19c65e1c03b4aa3499c5328201f1"
  },
  "kernelspec": {
   "display_name": "Python 3.9.7 64-bit",
   "language": "python",
   "name": "python3"
  },
  "language_info": {
   "codemirror_mode": {
    "name": "ipython",
    "version": 3
   },
   "file_extension": ".py",
   "mimetype": "text/x-python",
   "name": "python",
   "nbconvert_exporter": "python",
   "pygments_lexer": "ipython3",
   "version": "3.9.7"
  },
  "orig_nbformat": 4
 },
 "nbformat": 4,
 "nbformat_minor": 2
}
